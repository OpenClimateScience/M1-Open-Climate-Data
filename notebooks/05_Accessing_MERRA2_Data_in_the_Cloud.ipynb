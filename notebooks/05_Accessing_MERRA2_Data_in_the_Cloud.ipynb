{
 "cells": [
  {
   "cell_type": "markdown",
   "id": "97e56497-bb38-4188-ac4f-3467d7edb6a9",
   "metadata": {},
   "source": [
    "# M1.5 - Accessing MERRA-2 Data in the Cloud\n",
    "\n",
    "*Part of:* **M1: Open Climate Data**"
   ]
  },
  {
   "cell_type": "markdown",
   "id": "8cdf638e-3a5b-4588-9569-92d7f7ae439b",
   "metadata": {},
   "source": [
    "**Contents:**\n",
    "\n",
    "1. [Using `earthaccess`](#Using-earthaccess)\n",
    "2. [Getting a temperature time series](#Getting-a-temperature-time-series)"
   ]
  },
  {
   "cell_type": "code",
   "execution_count": null,
   "id": "5af7c0c0-b184-4c29-98f1-94033f52e678",
   "metadata": {},
   "outputs": [],
   "source": [
    "import earthaccess\n",
    "import xarray as xr\n",
    "from matplotlib import pyplot\n",
    "\n",
    "auth = earthaccess.login()"
   ]
  },
  {
   "cell_type": "markdown",
   "id": "91606a2f-50bc-4817-8399-7d3cbe5501aa",
   "metadata": {},
   "source": [
    "## Using `earthaccess`"
   ]
  },
  {
   "cell_type": "markdown",
   "id": "02d18069-393a-44b4-a961-153343866cb4",
   "metadata": {},
   "source": [
    "Previously, we manually downloaded a netCDF4 file from NASA's Earthdata Search. Now, let's see how we can instead use Python code to download data from the cloud. \n",
    "\n",
    "The `earthaccess` library can be used to search and download data from Earthdata Search without opening a web browser and clicking around. For some applications, this can enable us to write Python code that is more transparent and reproducible, because it allows someone else to easily obtain the same raw data that we are starting with.\n",
    "\n",
    "We use `earthaccess.search_data()` to get one or more **granules** that match a search query. A granule is a single dataset associated with a particular NASA mission or product. \n",
    "\n",
    "**Do you remember where the short name for Earthdata products is found?** In the information (i) page, there are two locations:\n",
    "\n",
    "![](./assets/M1_screenshot_Earthdata_Search_MERRA2_info.png)\n",
    "\n",
    "**We use the `short_name` (short name) to indicate which collection of data granules we want to search.**\n",
    "\n",
    "In this example, we find that there are 32 granules between May 1 and June 1, inclusive."
   ]
  },
  {
   "cell_type": "code",
   "execution_count": null,
   "id": "a9c1227d-a06b-4fab-8b12-966915e67dcb",
   "metadata": {},
   "outputs": [],
   "source": [
    "results = earthaccess.search_data(\n",
    "    short_name = 'M2SDNXSLV',\n",
    "    temporal = (\"2023-05\", \"2023-06\"))\n",
    "results[0]"
   ]
  },
  {
   "cell_type": "markdown",
   "id": "7ad9248e-f66e-4296-bd52-6c15b71cf821",
   "metadata": {},
   "source": [
    "No data have been downloaded yet; we just have a reference to the data that is stored in the cloud."
   ]
  },
  {
   "cell_type": "code",
   "execution_count": null,
   "id": "ccafbe41-cec1-4799-a6ff-d44c34f01b75",
   "metadata": {},
   "outputs": [],
   "source": [
    "type(results[0])"
   ]
  },
  {
   "cell_type": "markdown",
   "id": "e24baa41-3960-43a6-9448-1bd94de4da43",
   "metadata": {},
   "source": [
    "To download a granule, we can use `earthaccess.open()`. **An important thing to note about `earthaccess.open()` is that it requires a *sequence* of granules to open.** Therefore, even if we want to open just a single granule, that granule must be given as part of a Python list or tuple."
   ]
  },
  {
   "cell_type": "code",
   "execution_count": null,
   "id": "3f97ff3f-35c0-4555-945b-0060c1c54be9",
   "metadata": {},
   "outputs": [],
   "source": [
    "# NOTE: open() requires a sequence of file references\n",
    "files = earthaccess.open(results[0:2])"
   ]
  },
  {
   "cell_type": "code",
   "execution_count": null,
   "id": "61e677cf-7ce3-4076-92aa-aeb2d6240620",
   "metadata": {},
   "outputs": [],
   "source": [
    "type(files[0])"
   ]
  },
  {
   "cell_type": "markdown",
   "id": "44af3f59-443b-4ea2-a709-57921914c26c",
   "metadata": {},
   "source": [
    "The granules have been downloaded into our computer's memory. To open one of the downloaded files in Python, we now use `xarray`. There is a slight lag when using `open_dataset()` on a granule downloaded using `earthaccess.open()` because `xarray` has to analyze the file and figure out the coordinate system and dimensions."
   ]
  },
  {
   "cell_type": "code",
   "execution_count": null,
   "id": "4cfd81df-dc44-443d-9bd0-a8413c44bd96",
   "metadata": {},
   "outputs": [],
   "source": [
    "ds2 = xr.open_dataset(files[0])\n",
    "ds2"
   ]
  },
  {
   "cell_type": "markdown",
   "id": "0ba29031-010f-4e1b-90c5-f71510546df1",
   "metadata": {},
   "source": [
    "The resulting `xarray.Dataset` is ready for plotting!"
   ]
  },
  {
   "cell_type": "code",
   "execution_count": null,
   "id": "fbb2c0ba-9ae5-497c-a421-3e14404185e3",
   "metadata": {},
   "outputs": [],
   "source": [
    "ds2['T2MMIN'].plot()"
   ]
  },
  {
   "cell_type": "markdown",
   "id": "20ced234-29b5-4a9a-a960-4d03ad292a01",
   "metadata": {},
   "source": [
    "## Getting a temperature time series"
   ]
  },
  {
   "cell_type": "markdown",
   "id": "6efe6da6-360f-4f94-bfd0-8123cdbef47c",
   "metadata": {},
   "source": [
    "This worked great for a single file, but what if we wanted to generate a time series of climate data? We know that `xarray` datasets can have a time dimension, making them capable of representing more than one instance in time. How do we create such a dataset?\n",
    "\n",
    "In this next example, we use a `for` loop to iterate over the MERRA-2 granules, opening each one and then selecting the `T2MMIN` (minimum temperature) value at a specific location. We add this value to a list, along with the date (`\"time\"`) of the granule, to build up a time series dataset."
   ]
  },
  {
   "cell_type": "code",
   "execution_count": null,
   "id": "8cce6c4e-9737-4e8e-b5d5-7f1d942b211f",
   "metadata": {},
   "outputs": [],
   "source": [
    "# NOTE: This example may take half a minute with a good internet connection.\n",
    "results = earthaccess.search_data(\n",
    "    short_name = 'M2SDNXSLV',\n",
    "    temporal = (\"2023-05\", \"2023-06\"))\n",
    "\n",
    "time_list = []\n",
    "data_list = []\n",
    "file_list = earthaccess.open(results)\n",
    "for filename in file_list:\n",
    "    ds = xr.open_dataset(filename)\n",
    "    data_list.append(ds['T2MMIN'].sel(lat = 36.5, lon = 3.125).values)\n",
    "    time_list.append(ds['T2MMIN']['time'].values)"
   ]
  },
  {
   "cell_type": "markdown",
   "id": "7226bbbb-6410-414d-af45-0581078f0110",
   "metadata": {},
   "source": [
    "We now have a Python `list` of minimum temperature values and another `list` of dates. Below, we plot these data, after using `numpy` to convert the temperature data from degrees Kelvin (K) to degrees Celsius (C)."
   ]
  },
  {
   "cell_type": "code",
   "execution_count": null,
   "id": "0397b7f4-df17-4ee6-82ab-59789a66b7ea",
   "metadata": {},
   "outputs": [],
   "source": [
    "import numpy as np\n",
    "\n",
    "# Convert from deg K to deg C\n",
    "data = np.array(data_list).ravel() - 273.15\n",
    "time = np.array(time_list).ravel()\n",
    "\n",
    "pyplot.figure(figsize = (12, 4))\n",
    "pyplot.plot(time, data)\n",
    "pyplot.ylabel('Min. Temperature (deg C)')"
   ]
  }
 ],
 "metadata": {
  "kernelspec": {
   "display_name": "Python 3 (ipykernel)",
   "language": "python",
   "name": "python3"
  },
  "language_info": {
   "codemirror_mode": {
    "name": "ipython",
    "version": 3
   },
   "file_extension": ".py",
   "mimetype": "text/x-python",
   "name": "python",
   "nbconvert_exporter": "python",
   "pygments_lexer": "ipython3",
   "version": "3.10.12"
  }
 },
 "nbformat": 4,
 "nbformat_minor": 5
}
