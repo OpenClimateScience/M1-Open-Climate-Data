{
 "cells": [
  {
   "cell_type": "markdown",
   "id": "d1836216-e689-4585-a935-1de66035b949",
   "metadata": {},
   "source": [
    "# M1.3 - Climate Re-Analysis Data\n",
    "\n",
    "*Part of:* **M1: Open Climate Data**"
   ]
  },
  {
   "cell_type": "markdown",
   "id": "51d58ce4-1aac-45d3-9c76-2e076b0a55be",
   "metadata": {},
   "source": [
    "**Contents:**\n",
    "\n",
    "- [Re-analysis datasets](#Re-analysis-datasets)\n",
    "- [MERRA-2 data in Earthdata Search](#MERRA-2-data-in-Earthdata-Search)\n",
    "- [Downloading MERRA-2 data](#Downloading-MERRA-2-data)"
   ]
  },
  {
   "cell_type": "markdown",
   "id": "4238fb23-6056-4e15-80bb-fbadf4136929",
   "metadata": {},
   "source": [
    "## Re-analysis datasets\n",
    "\n",
    "**Re-analysis datasets** use data assimilation to combine historical ground-based data with a numerical weather prediction model. In data assimilation, the model first tries to predict a certain weather condition (e.g., the rainfall rate on August 31, 2020) and then the predicted value is compared to the actual value that was observed. If the predicted values are significantly different, the model is adjusted so it produces better predictions.\n",
    "\n",
    "![](./assets/M1_fig_re-analysis.png)\n",
    "\n",
    "The [**Modern-Era Retrospective Analysis for Research and Applications (MERRA-2)**](https://gmao.gsfc.nasa.gov/reanalysis/MERRA-2/) is NASA’s main reanalysis dataset. It incorporates data from multiple satellite platforms and ground-based weather stations in order to predict meteorological conditions world-wide. A vast number of different weather variables are provided on a consistent, global grid with a resolution of 0.625 degrees of longitude by 0.5 degrees of latitude. As with other weather models, there are multiple vertical layers, corresponding either to relative height above the ground or to pressure levels in the atmosphere.\n",
    "\n",
    "Ingesting and processing all this data takes time, so MERRA-2 is always a few weeks behind; so, as with other re-analysis datasets, MERRA-2 should only be used to describe prevailing or historical climate conditions.\n",
    "\n",
    "MERRA-2 produces both **instantaneous** and **time-averaged** products. Instantaneous products are snapshots of current meteorological conditions. For example, if the northward wind speed in a 3-hourly instantaneous product is given as 2 meters per second, that was the model-simulated wind speed at that precise moment in time, e.g., 15h00 UTC. In a 3-hourly time-averaged product, on the other hand, the wind speed at 13h30 UTC would be the average over the three hours spanning that central time, e.g., from 12h00 UTC to 15h00 UTC. There are also **daily average** products such as the minimum and maximum daily temperatures.\n",
    "\n",
    "Similarly, MERRA-2 data products can be **2-dimensional (2D)** or **3-dimensional (3D).** In the 3D case, there are multiple latitude-longitude grids for different vertical levels, usually represented as different levels of atmospheric pressure. Agricultural scientists, farmers, and land managers are probably more interested in the 2D data, which are also called **single-level (\"slv\")** data. These MERRA-2 products are usually labeled like this:\n",
    "\n",
    "```\n",
    "\tinst1_2d_slv_*\n",
    "\tinst3_2d_slv_*\n",
    "```\n",
    "\n",
    "Above, the `inst` refers to instantaneous 1-hourly or 3-hourly data. You might instead see time-averaged data, labeled like this:\n",
    "\n",
    "```\n",
    "\ttavg1_2d_slv_*\n",
    "\ttavg3_2d_slv_*\n",
    "```\n",
    "\n",
    "Where `tavg1` and `tavg3` refer to *averaged* 1-hourly or 3-hourly data, respectively. In place of `slv` you might see a product labeled `rad` for solar and thermal radiation data or `aer` for aerosols; there are both 2D and 3D versions of these products.\n"
   ]
  },
  {
   "cell_type": "markdown",
   "id": "ac58c4f9-50c7-404a-b943-8690f20fe579",
   "metadata": {},
   "source": [
    "---\n",
    "\n",
    "## MERRA-2 data in Earthdata Search\n",
    "\n",
    "Let's take a look at some of these MERRA-2 datasets. Suppose we wanted to identify the minimum daily temperature across our area of interest. From the MERRA-2 documentation, we learn that the dataset we want is called `statD_2d_slv_Nx`.\n",
    "\n",
    "1. Type \"statD_2d_slv_Nx\" into the search box at the top-left of Earthdata Search.\n",
    "2. Click on the box that shows in the results (there should only be one).\n",
    "3. Take a look at the left-hand side, under \"Filter Granules;\" note the only real choice here is to filter the granules by time. That's because every MERRA-2 granule covers the entire globe, so spatial filtering isn't necessary. If we put a date into the \"Start\" box, we’ll see only granules after that date. If we put a date into the “Start” and “End” boxes, we'll see only granules between those dates.\n",
    "5. If we clicked the Download button right now, we'd get a single file that ends with the file extension `*.nc4`. **Click to download any one of the granules you see; see the screenshot below for which button to click.**\n",
    "\n",
    "![](./assets/M1_screenshot_Earthdata_Search_download.png)"
   ]
  },
  {
   "cell_type": "markdown",
   "id": "20771d48-7d95-41a2-a78b-b4b7cea606a6",
   "metadata": {},
   "source": [
    "---\n",
    "\n",
    "## Downloading MERRA-2 data\n",
    "\n",
    "**Now that we're starting to download climate datasets, it's time to think critically about file management.** Our project is likely to include a lot of raw datasets like this MERRA-2 granule but also Python scripts, output figures, and research notes. How can we keep it all organized?\n",
    "\n",
    "There are some simple guidelines that can help you stay organized. **Consider the example file tree, below.**\n",
    "\n",
    "### Example project organization\n",
    "\n",
    "![](./assets/M1_file_tree_MERRA2.png)\n",
    "\n",
    "**Note the following:**\n",
    "\n",
    "- All of our project's files are kept within a single directory: `my_project`. If any file is related to our project, we ought to be able to point to a single place on our file system where it is kept.\n",
    "- **Raw data, Python scripts, and results are kept in separate folders.** This is very important, particularly to protect raw data from accidentally being changed. If we want to look up some plot we made, we can go straight to the `results` folder, instead of searching for it in one or more folders that may contain different things. We can imagine different sub-folders within `results` that we might choose to help further organize our results: `tables`, `plots_for_publication`, `summary_statistics`, etc.\n",
    "- **We chose meaningful filenames:** Our current project is pretty simple, so `MERRA2_processing.ipynb` might be the best name for the Jupyter Notebook where we process the MERRA-2 data. An even better name might be `MERRA2_mean_annual_temp_calculation.ipynb`, to indicate the *purpose* of the script. Similarly, `MERRA2_mean_annual_temp_2023.png` tells us what the file (a plot) represents (mean annual temperature) and the relevant time period (the year 2023)."
   ]
  }
 ],
 "metadata": {
  "kernelspec": {
   "display_name": "Python 3 (ipykernel)",
   "language": "python",
   "name": "python3"
  },
  "language_info": {
   "codemirror_mode": {
    "name": "ipython",
    "version": 3
   },
   "file_extension": ".py",
   "mimetype": "text/x-python",
   "name": "python",
   "nbconvert_exporter": "python",
   "pygments_lexer": "ipython3",
   "version": "3.8.10"
  }
 },
 "nbformat": 4,
 "nbformat_minor": 5
}
