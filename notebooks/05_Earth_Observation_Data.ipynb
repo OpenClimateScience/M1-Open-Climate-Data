{
 "cells": [
  {
   "cell_type": "markdown",
   "id": "97e56497-bb38-4188-ac4f-3467d7edb6a9",
   "metadata": {},
   "source": [
    "# M1.5 - Earth Observation Data\n",
    "\n",
    "*Part of:* **M1: Open Climate Data**"
   ]
  },
  {
   "cell_type": "markdown",
   "id": "a40c29b2-39bc-4a44-b07a-265353a7237d",
   "metadata": {},
   "source": [
    "**Contents:**\n",
    "\n",
    "1. [Satellite data sources](#Satellite-data-sources)\n",
    "2. [Multi-sensor datasets](#Multi-sensor-datasets)\n",
    "3. [Using satellite-based precipitation data](#Using-satellite-based-precipitation-data)\n",
    "4. [Zooming in on a study area](#Zooming-in-on-a-study-area)\n",
    "5. [Using `cartopy`](#Using-cartopy)\n",
    "6. [Merging multiple time-series datasets](#Merging-multiple-time-series-datasets)"
   ]
  },
  {
   "cell_type": "markdown",
   "id": "948bc476-4c95-4021-a04d-07907aa7e143",
   "metadata": {},
   "source": [
    "## Satellite data sources\n",
    "\n",
    "NASA's constellation of earth-observing satellites offers many sources of information on earth's climate system. NASA's [Eyes on the Earth website](https://eyes.nasa.gov/apps/earth/) shows where many of these satellites are in real time.\n",
    "\n",
    "Most of NASA's earth-observing satellites have **sun-synchronous, polar orbits** (see figure below). This means that the satellite's orbit always passes (nearly) over the earth's poles as the earth spins beneath it. When the satellite is moving between the poles, it crosses the equator at the same local time, over a different part of the earth.\n",
    "\n",
    "![](./assets/sun-synchronous.png)\n",
    "\n",
    "*Image from [NASA's Earth Observatory.](https://earthobservatory.nasa.gov/features/OrbitsCatalog)*\n",
    "\n",
    "Earth-observing satellites carry sensors pointed at the earth for taking measurements of the earth's surface or atmosphere. The sensors measure some part of the electromagnetic spectrum: either visible light, near-infrared and short-wave infrared light, infrared waves, or microwaves. These sensors can be described in terms of:\n",
    "\n",
    "- **Spectral resolution:** How many types of electromagnetic energy are detected and how narrow the spacing between wavelength bands is.\n",
    "- **Spatial resolution:** The smallest target size that can be measured on the ground.\n",
    "- **Temporal resolution:** How often a sensor acquires data on a specific location.\n",
    "\n",
    "The temporal resolution is also referred to as the **revisit time:** how long it takes for the sensor to view the same location on the earth from the same viewing angle. The revisit time determines how often we can get information on agricultural systems."
   ]
  },
  {
   "cell_type": "markdown",
   "id": "7b2ac00f-fded-4d04-bd63-7f94a6db7fd0",
   "metadata": {},
   "source": [
    "## Multi-sensor datasets\n",
    "\n",
    "Different satellite missions, whether overlapping or separated by years, sometimes measure the same thing. **Precipitation** is one important climate variable for agriculture that has been measured by multiple satellite missions in NASA's Global Precipitation Measurement (GPM) constellation.\n",
    "\n",
    "![](./assets/GPM-constellation.jpg)"
   ]
  },
  {
   "cell_type": "markdown",
   "id": "f0a18bb0-2b0e-47db-8ecb-b9752f3f4094",
   "metadata": {},
   "source": [
    "### IMERG precipitation data\n",
    "\n",
    "The Integrated Multi-satellitE Retrievals for GPM (IMERG) algorithm combines data from these different GPM missions to estimate total precipitation across the globe in 30-minute intervals and with 10-km resolution. There are three (3) different IMERG products, differentiated by how they integrate data and their latency, or how soon they are made available:\n",
    "\n",
    "- IMERG \"Early\" has the lowest latency, available within approximately 4 hours of data collection but may be the least accurate because it only projects forward in time.\n",
    "- IMERG \"Late\" has a latency of approximately 14 hours and uses both forward and backward projection to improve estimates.\n",
    "- IMERG \"Final\" has a latency of approximately 3.5 months but is the most accurate product as it incorporates ground-based rain gauge data."
   ]
  },
  {
   "cell_type": "markdown",
   "id": "61aa97ee-8d82-43f2-bdbf-5eb7167c0eaf",
   "metadata": {},
   "source": [
    "## Using satellite-based precipitation data"
   ]
  },
  {
   "cell_type": "markdown",
   "id": "4705c000-4347-46ac-b851-5e09496f063c",
   "metadata": {},
   "source": [
    "Parts of northern Algeria and Tunisia experienced flash floods in May 2023. Let's use the IMERG-Late product to quantify the total precipitation that fell across the country on one day in that region."
   ]
  },
  {
   "cell_type": "code",
   "execution_count": null,
   "id": "5af7c0c0-b184-4c29-98f1-94033f52e678",
   "metadata": {},
   "outputs": [],
   "source": [
    "import earthaccess\n",
    "import xarray as xr\n",
    "from matplotlib import pyplot\n",
    "\n",
    "auth = earthaccess.login()"
   ]
  },
  {
   "cell_type": "markdown",
   "id": "b712bf96-d42d-4604-b973-9f283b3e679f",
   "metadata": {},
   "source": [
    "While IMERG-Final is produced in 30-minute intervals, today we'll be using [a version of the data that have been aggregated to daily time steps.](https://disc.gsfc.nasa.gov/datasets/GPM_3IMERGDF_06/summary)"
   ]
  },
  {
   "cell_type": "code",
   "execution_count": null,
   "id": "a9c1227d-a06b-4fab-8b12-966915e67dcb",
   "metadata": {},
   "outputs": [],
   "source": [
    "results = earthaccess.search_data(\n",
    "    short_name = 'GPM_3IMERGDF',\n",
    "    temporal = ('2023-05-25', '2023-05-30'))\n",
    "\n",
    "results[0]"
   ]
  },
  {
   "cell_type": "code",
   "execution_count": null,
   "id": "3f97ff3f-35c0-4555-945b-0060c1c54be9",
   "metadata": {},
   "outputs": [],
   "source": [
    "# NOTE: open() requires a sequence of file references\n",
    "files = earthaccess.open(results)\n",
    "files"
   ]
  },
  {
   "cell_type": "code",
   "execution_count": null,
   "id": "fbb2c0ba-9ae5-497c-a421-3e14404185e3",
   "metadata": {},
   "outputs": [],
   "source": [
    "ds = xr.open_dataset(files[1])\n",
    "ds"
   ]
  },
  {
   "cell_type": "code",
   "execution_count": null,
   "id": "05ccbfaa-1b71-4a56-ab84-2cc52cf630ab",
   "metadata": {},
   "outputs": [],
   "source": [
    "list(ds.variables.keys())"
   ]
  },
  {
   "cell_type": "markdown",
   "id": "7c6dfa1c-877f-444a-bf37-368a20d497e4",
   "metadata": {},
   "source": [
    "There are a lot of different variables in this dataset, all described in [the IMERG-Late documentation.](https://disc.gsfc.nasa.gov/datasets/GPM_3IMERGDF_06/summary) We'll use the `precipitation` variable, which is the gauge-calibrated, multi-satellite estimate that NASA recommends for general use."
   ]
  },
  {
   "cell_type": "code",
   "execution_count": null,
   "id": "598cdc94-0185-493b-90d9-229114f2238e",
   "metadata": {},
   "outputs": [],
   "source": [
    "ds['precipitation']"
   ]
  },
  {
   "cell_type": "code",
   "execution_count": null,
   "id": "e58d5dd5-6875-4c8b-ac3e-6eb05cce34fe",
   "metadata": {},
   "outputs": [],
   "source": [
    "# NOTE: vmax = 100 makes it easier to see lower precipitation values\n",
    "ds['precipitation'].plot(vmax = 100)"
   ]
  },
  {
   "cell_type": "markdown",
   "id": "1fef4062-7218-44cd-8f27-bee1dd9763e7",
   "metadata": {},
   "source": [
    "That looks weird! Any ideas about what is wrong?\n",
    "\n",
    "We need to rotate the plot so that the rows of the image correspond to latitude bands. **Specifically, we need to tell `xarray` that longitude (\"lon\") should span the X-axis and latitude (\"lat\") should span the Y-axis.**"
   ]
  },
  {
   "cell_type": "code",
   "execution_count": null,
   "id": "bfe90a5f-ff63-4351-9e4f-d4e0cb2d1aa8",
   "metadata": {},
   "outputs": [],
   "source": [
    "ds['precipitation'].plot(x = 'lon', y = 'lat', vmax = 100)"
   ]
  },
  {
   "cell_type": "markdown",
   "id": "472bc1db-feb9-4155-a588-316308df0ddd",
   "metadata": {},
   "source": [
    "This looks better. But why is most of the image dark?\n",
    "\n",
    "The easiest way to see more detail in the image is to tell `xarray` to stretch the colorbar so that extreme values don't dominate; we do this with `robust = True`."
   ]
  },
  {
   "cell_type": "code",
   "execution_count": null,
   "id": "d5a69102-470d-4f03-abc1-22a500d8eabd",
   "metadata": {},
   "outputs": [],
   "source": [
    "ds['precipitation'].plot(x = 'lon', y = 'lat', robust = True)"
   ]
  },
  {
   "cell_type": "markdown",
   "id": "28114562-e23a-480e-ba4d-ad2d3a03121b",
   "metadata": {},
   "source": [
    "Alternatively, we could tell `xarray` what the maximum value assigned to a color should be, using the `vmax` keyword argument. There's a corresponding `vmin` argument for the minimum value."
   ]
  },
  {
   "cell_type": "code",
   "execution_count": null,
   "id": "bf995ae9-2736-4564-ba6c-56ee0d41878b",
   "metadata": {},
   "outputs": [],
   "source": [
    "ds['precipitation'].plot(x = 'lon', y = 'lat', vmax = 15)"
   ]
  },
  {
   "cell_type": "markdown",
   "id": "c69184fb-2d35-4697-8e57-7e94608a18bb",
   "metadata": {},
   "source": [
    "## Zooming in on a study area"
   ]
  },
  {
   "cell_type": "markdown",
   "id": "133d189a-acea-4609-b8ba-b331f84c0881",
   "metadata": {},
   "source": [
    "How can we use these data for local applications? We need to figure out a way to focus the map on a smaller area.\n",
    "\n",
    "Python's built-in `slice()` function can be used with the `sel()` method of an `xarray` DataArray in order to slice a larger array into a smaller array. Here, we focus on a small, rectangular bounding box that inclues Algiers."
   ]
  },
  {
   "cell_type": "code",
   "execution_count": null,
   "id": "e7d32154-e072-40a8-a533-90692a334b9b",
   "metadata": {},
   "outputs": [],
   "source": [
    "# Area between 30-40 degree N latitude and between 6 W and 6 E longitude\n",
    "precip = ds['precipitation'].sel(lat = slice(30, 40), lon = slice(-6, 6))\n",
    "\n",
    "precip.plot(x = 'lon', y = 'lat')"
   ]
  },
  {
   "cell_type": "markdown",
   "id": "b361de0f-a923-49d0-9305-1757d5f738a4",
   "metadata": {},
   "source": [
    "## Using `cartopy`"
   ]
  },
  {
   "cell_type": "markdown",
   "id": "5e16a6c8-b424-4ce4-84f1-585446241f43",
   "metadata": {},
   "source": [
    "It's a good idea to verify that we're mapping the right part of the world, especially since the IMERG data are rotated. `cartopy` is a Python library that provides some additional mapping tools.\n",
    "\n",
    "Below, I changed the colormap, `cmap`, so that it is easier to see the dark coastlines on top of the precipitation data.\n",
    "\n",
    "Note that Plate-Carree is just a fancy term for an equirectangular coordinate system, i.e., a longitude-latitude plot."
   ]
  },
  {
   "cell_type": "code",
   "execution_count": null,
   "id": "8e65db8f-9a87-4454-bd6b-89e766f436b8",
   "metadata": {},
   "outputs": [],
   "source": [
    "from cartopy import crs\n",
    "\n",
    "proj = crs.PlateCarree()\n",
    "style = {\n",
    "    'projection': proj\n",
    "}\n",
    "\n",
    "plot = precip.plot(subplot_kws = style, transform = proj, cmap = 'magma_r', x = 'lon', y = 'lat')\n",
    "plot.axes.coastlines()"
   ]
  },
  {
   "cell_type": "markdown",
   "id": "245df44a-19f5-41cf-a793-56febc656f22",
   "metadata": {},
   "source": [
    "[You can see what other color maps are available here.](https://matplotlib.org/stable/gallery/color/colormap_reference.html) Any colormap can be reversed by adding `'_r'` to the end of the colormap's name.\n",
    "\n",
    "**It's important to choose the right colormap for your data.** People sometimes think that a rainbow color scale is better because it has \"more colors.\" However, in the example below, you can see that a rainbow color scale emphasizes different parts of the linear scale. The change in color between 40 and 60 mm seems much sharper than the change between 0 and 20 mm, even though it's the same step size (20 mm difference). This is an example of how the rainbow color scale fails to provide **perceptual linearity;** the perception of a change in hue or brightness that is proportional to the change in the numeric value (e.g., precipitation)."
   ]
  },
  {
   "cell_type": "code",
   "execution_count": null,
   "id": "5a88ead7-d636-4f9c-9e9d-ca23ff600f5d",
   "metadata": {},
   "outputs": [],
   "source": [
    "plot = precip.plot(subplot_kws = style, transform = proj, cmap = 'jet', x = 'lon', y = 'lat')\n",
    "plot.axes.coastlines()"
   ]
  },
  {
   "cell_type": "markdown",
   "id": "2d1acc00-ab9e-4106-92ef-53a4c1e8c334",
   "metadata": {},
   "source": [
    "**But rainbow color scales are also problematic for color-blind viewers, as you can see in the simulation of what some color-blind viewers would experience when looking at different color scales.**\n",
    "\n",
    "![](assets/M1_fig_colorblind_scales.jpg)\n",
    "\n",
    "*Image from [Light & Bartlein (2004)](https://eos.org/features/the-end-of-the-rainbow-color-schemes-for-improved-data-graphics)*"
   ]
  },
  {
   "cell_type": "markdown",
   "id": "1639f21a-b658-4574-a621-2dfae33523a8",
   "metadata": {},
   "source": [
    "**Fortunately, most of the colormaps available in `xarray` and `matplotlib` are perceptually linear, and many of those remain consistent for colorblind viewers.** You can see some of these colormaps in more detail at [Dr. Cynthia Brewer's website.](https://colorbrewer2.org/#type=sequential&scheme=BuGn&n=3)\n",
    "\n",
    "**So, how much rain fell around Algiers on this day?**"
   ]
  },
  {
   "cell_type": "code",
   "execution_count": null,
   "id": "e9097d3a-eff5-4d58-ae90-9270ad177334",
   "metadata": {},
   "outputs": [],
   "source": [
    "precip.sel(lon = 3.059, lat = 36.754, method = 'nearest').values"
   ]
  },
  {
   "cell_type": "markdown",
   "id": "1dea2425-01a4-4017-8807-bec83fab2ad2",
   "metadata": {},
   "source": [
    "That's a good amount of rain for this region in a single day, but from the map above it's clear that there are areas near Algiers that received more rain. What's the maximum rainfall total for the coast of Algiers?"
   ]
  },
  {
   "cell_type": "code",
   "execution_count": null,
   "id": "fb3af4a4-d9e5-4c8e-b87a-b1cf9858cb9a",
   "metadata": {},
   "outputs": [],
   "source": [
    "precip.sel(lon = slice(3, 3.2), lat = slice(36.5, 36.8)).max()"
   ]
  },
  {
   "cell_type": "markdown",
   "id": "2f3dad0e-03e8-4f8a-8454-8124bc9547c9",
   "metadata": {},
   "source": [
    "Just a reminder, because the `values` are returned as a NumPy array, we can do math on these arrays, treating them as if they were just numbers. So, a conversion from mm to meters is easy:"
   ]
  },
  {
   "cell_type": "code",
   "execution_count": null,
   "id": "18b2c85f-7502-40c9-a50f-8b5cfc4a121d",
   "metadata": {},
   "outputs": [],
   "source": [
    "precip.sel(lon = slice(3, 3.2), lat = slice(36.5, 36.8)).max() / 1000"
   ]
  },
  {
   "cell_type": "markdown",
   "id": "c5cfea84-a9fe-4cf3-a9c0-233803858975",
   "metadata": {},
   "source": [
    "## Merging multiple time-series datasets\n",
    "\n",
    "Each IMERG granule in this collection is a single, daily precipitation estimate."
   ]
  },
  {
   "cell_type": "code",
   "execution_count": null,
   "id": "4c8b18a2-c7d7-40b1-8021-18e83ad549b4",
   "metadata": {},
   "outputs": [],
   "source": [
    "files"
   ]
  },
  {
   "cell_type": "markdown",
   "id": "2dc30593-56d0-445c-8cc6-3036c89a6d56",
   "metadata": {},
   "source": [
    "Earlier, we developed a temperature time series by opening each MERRA-2 file in a `for` loop. We can get a precipitation time series the same way."
   ]
  },
  {
   "cell_type": "code",
   "execution_count": null,
   "id": "897c0ee3-9566-4f94-b7d0-e6ffb8801675",
   "metadata": {},
   "outputs": [],
   "source": [
    "# This may take half a minute\n",
    "datasets = []\n",
    "for filename in files:\n",
    "    ds = xr.open_dataset(filename)\n",
    "    datasets.append(ds['precipitation'])"
   ]
  },
  {
   "cell_type": "code",
   "execution_count": null,
   "id": "695f1e13-b3d5-4eef-b017-09986618b047",
   "metadata": {},
   "outputs": [],
   "source": [
    "len(datasets)"
   ]
  },
  {
   "cell_type": "markdown",
   "id": "1577b91f-69cc-46df-a562-5ea1b8211e58",
   "metadata": {},
   "source": [
    "In the MERRA-2 example, we extracted the temperature value at a specific location before appending it to a list. But `xarray` is capable of representing multiple time steps in a single dataset. Is there a way to merge adjacent time steps together?\n",
    "\n",
    "We can do just that with the `concat()` function in `xarray`. We specify that the multiple datasets we've open should be joined along the `'time'` dimension."
   ]
  },
  {
   "cell_type": "code",
   "execution_count": null,
   "id": "d9b2315e-3b27-4bb8-a051-ed9bc51eb178",
   "metadata": {},
   "outputs": [],
   "source": [
    "time_series = xr.concat(datasets, dim = 'time')"
   ]
  },
  {
   "cell_type": "markdown",
   "id": "1dc9092d-558a-483f-94d3-1ffd3bc047df",
   "metadata": {},
   "source": [
    "Now that we have all the time steps in a single dataset, when we use label-based indexing with the `sel()` function, we're able to get a point estimate for each time step (6 days in total)."
   ]
  },
  {
   "cell_type": "code",
   "execution_count": null,
   "id": "8517af44-2ebd-4a69-b14a-3e8e8e977850",
   "metadata": {},
   "outputs": [],
   "source": [
    "time_series.sel(lon = 3.059, lat = 36.754, method = 'nearest')"
   ]
  },
  {
   "cell_type": "code",
   "execution_count": null,
   "id": "28833c3b-33b3-4950-b28b-c2c94f1494e4",
   "metadata": {},
   "outputs": [],
   "source": [
    "time_series.sel(lon = 3.059, lat = 36.754, method = 'nearest').plot()"
   ]
  }
 ],
 "metadata": {
  "kernelspec": {
   "display_name": "Python 3 (ipykernel)",
   "language": "python",
   "name": "python3"
  },
  "language_info": {
   "codemirror_mode": {
    "name": "ipython",
    "version": 3
   },
   "file_extension": ".py",
   "mimetype": "text/x-python",
   "name": "python",
   "nbconvert_exporter": "python",
   "pygments_lexer": "ipython3",
   "version": "3.10.12"
  }
 },
 "nbformat": 4,
 "nbformat_minor": 5
}
