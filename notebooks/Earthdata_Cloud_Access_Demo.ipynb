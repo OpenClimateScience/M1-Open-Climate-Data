{
 "cells": [
  {
   "cell_type": "code",
   "execution_count": null,
   "id": "5af7c0c0-b184-4c29-98f1-94033f52e678",
   "metadata": {},
   "outputs": [],
   "source": [
    "import earthaccess\n",
    "import xarray as xr\n",
    "\n",
    "auth = earthaccess.login()"
   ]
  },
  {
   "cell_type": "code",
   "execution_count": null,
   "id": "a9c1227d-a06b-4fab-8b12-966915e67dcb",
   "metadata": {},
   "outputs": [],
   "source": [
    "results = earthaccess.search_data(\n",
    "    short_name = 'M2SDNXSLV',\n",
    "    temporal = (\"2023-06\", \"2023-07\"))\n",
    "results[0]"
   ]
  },
  {
   "cell_type": "code",
   "execution_count": null,
   "id": "3f97ff3f-35c0-4555-945b-0060c1c54be9",
   "metadata": {},
   "outputs": [],
   "source": [
    "# NOTE: open() requires a sequence of file references\n",
    "files = earthaccess.open(results[0:2])"
   ]
  },
  {
   "cell_type": "code",
   "execution_count": null,
   "id": "4cfd81df-dc44-443d-9bd0-a8413c44bd96",
   "metadata": {},
   "outputs": [],
   "source": [
    "ds = xr.open_dataset(files[0])\n",
    "ds"
   ]
  }
 ],
 "metadata": {
  "kernelspec": {
   "display_name": "Python 3 (ipykernel)",
   "language": "python",
   "name": "python3"
  },
  "language_info": {
   "codemirror_mode": {
    "name": "ipython",
    "version": 3
   },
   "file_extension": ".py",
   "mimetype": "text/x-python",
   "name": "python",
   "nbconvert_exporter": "python",
   "pygments_lexer": "ipython3",
   "version": "3.8.10"
  }
 },
 "nbformat": 4,
 "nbformat_minor": 5
}
