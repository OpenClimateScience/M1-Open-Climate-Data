{
 "cells": [
  {
   "cell_type": "code",
   "execution_count": null,
   "id": "5af7c0c0-b184-4c29-98f1-94033f52e678",
   "metadata": {},
   "outputs": [],
   "source": [
    "import earthaccess\n",
    "import xarray as xr\n",
    "\n",
    "auth = earthaccess.login()"
   ]
  },
  {
   "cell_type": "markdown",
   "id": "9d96d231-fbd8-4209-ae4e-5d41a58d3387",
   "metadata": {},
   "source": [
    "## Using a Downloaded netCDF4 File"
   ]
  },
  {
   "cell_type": "code",
   "execution_count": null,
   "id": "f99f9b11-3492-4c16-9311-318f1dadd71d",
   "metadata": {
    "scrolled": true
   },
   "outputs": [],
   "source": [
    "ds = xr.open_dataset('/home/arthur.endsley/Downloads/MERRA2_400.statD_2d_slv_Nx.20230701.nc4')\n",
    "ds"
   ]
  },
  {
   "cell_type": "code",
   "execution_count": null,
   "id": "bcaa8c22-b65e-4c1e-bb2f-bc75be54a90e",
   "metadata": {},
   "outputs": [],
   "source": [
    "ds['T2MMIN']"
   ]
  },
  {
   "cell_type": "code",
   "execution_count": null,
   "id": "d0a8646f-c2be-49fc-905b-1cfbf936c0bf",
   "metadata": {},
   "outputs": [],
   "source": [
    "ds['T2MMIN'].attrs"
   ]
  },
  {
   "cell_type": "code",
   "execution_count": null,
   "id": "b4492e82-5c06-4728-bcf5-cd4697c25c96",
   "metadata": {},
   "outputs": [],
   "source": [
    "ds['T2MMIN'].plot()"
   ]
  },
  {
   "cell_type": "code",
   "execution_count": null,
   "id": "63be63b7-6aa0-4999-9d1c-7e5cfdfe5d12",
   "metadata": {},
   "outputs": [],
   "source": [
    "ds['T2MMIN'].data"
   ]
  },
  {
   "cell_type": "code",
   "execution_count": null,
   "id": "dc15f3c0-58fb-4c99-81a1-6e92a86d214e",
   "metadata": {},
   "outputs": [],
   "source": [
    "ds['T2MMIN'].data.shape"
   ]
  },
  {
   "cell_type": "code",
   "execution_count": null,
   "id": "31dafe26-303e-4995-9ce6-430a75565a0c",
   "metadata": {},
   "outputs": [],
   "source": [
    "ds['T2MMIN'].sel(lat = -90, lon = -180)"
   ]
  },
  {
   "cell_type": "code",
   "execution_count": null,
   "id": "abed7df0-fb78-4389-a687-dfc1cfe85453",
   "metadata": {},
   "outputs": [],
   "source": [
    "ds['T2MMIN'].sel(lat = -90, lon = -180).values"
   ]
  },
  {
   "cell_type": "markdown",
   "id": "25cc4600-2a8d-43fd-8ea3-5ca007863b9d",
   "metadata": {},
   "source": [
    "What's the minimum temperature in Algiers? Note that we must specify a `method` here because the coordinates of Algiers don't exactly match the coordinates of each grid cell's center; i.e., we must ask for a nearest-neighbor interpolation."
   ]
  },
  {
   "cell_type": "code",
   "execution_count": null,
   "id": "5b805f98-7db0-4c6b-ab59-9cd155470392",
   "metadata": {},
   "outputs": [],
   "source": [
    "ds['T2MMIN'].sel(lat = 36.753889, lon = 3.058889, method = 'nearest').values"
   ]
  },
  {
   "cell_type": "markdown",
   "id": "91606a2f-50bc-4817-8399-7d3cbe5501aa",
   "metadata": {},
   "source": [
    "## Using `earthaccess`"
   ]
  },
  {
   "cell_type": "code",
   "execution_count": null,
   "id": "a9c1227d-a06b-4fab-8b12-966915e67dcb",
   "metadata": {},
   "outputs": [],
   "source": [
    "results = earthaccess.search_data(\n",
    "    short_name = 'M2SDNXSLV',\n",
    "    temporal = (\"2023-06\", \"2023-07\"))\n",
    "results[0]"
   ]
  },
  {
   "cell_type": "code",
   "execution_count": null,
   "id": "3f97ff3f-35c0-4555-945b-0060c1c54be9",
   "metadata": {},
   "outputs": [],
   "source": [
    "# NOTE: open() requires a sequence of file references\n",
    "files = earthaccess.open(results[0:2])"
   ]
  },
  {
   "cell_type": "code",
   "execution_count": null,
   "id": "4cfd81df-dc44-443d-9bd0-a8413c44bd96",
   "metadata": {},
   "outputs": [],
   "source": [
    "ds2 = xr.open_dataset(files[0])\n",
    "ds2"
   ]
  },
  {
   "cell_type": "code",
   "execution_count": null,
   "id": "fbb2c0ba-9ae5-497c-a421-3e14404185e3",
   "metadata": {},
   "outputs": [],
   "source": [
    "ds2['T2MMIN'].plot()"
   ]
  },
  {
   "cell_type": "markdown",
   "id": "20ced234-29b5-4a9a-a960-4d03ad292a01",
   "metadata": {},
   "source": [
    "## Getting a Temperature Time Series"
   ]
  },
  {
   "cell_type": "markdown",
   "id": "6efe6da6-360f-4f94-bfd0-8123cdbef47c",
   "metadata": {},
   "source": [
    "This example may take a couple of minutes...even on a good internet connection."
   ]
  },
  {
   "cell_type": "code",
   "execution_count": null,
   "id": "8cce6c4e-9737-4e8e-b5d5-7f1d942b211f",
   "metadata": {},
   "outputs": [],
   "source": [
    "results = earthaccess.search_data(\n",
    "    short_name = 'M2SDNXSLV',\n",
    "    temporal = (\"2023-06\", \"2023-07\"))\n",
    "\n",
    "time_series = []\n",
    "data_series = []\n",
    "file_list = earthaccess.open(results)\n",
    "for filename in file_list:\n",
    "    ds = xr.open_dataset(filename)\n",
    "    data_series.append(ds['T2MMIN'].sel(lat = 36.5, lon = 3.125).values)\n",
    "    time_series.append(ds['T2MMIN']['time'].values)"
   ]
  },
  {
   "cell_type": "code",
   "execution_count": null,
   "id": "60f3e86d-1a42-492b-96d9-6908586a1e7e",
   "metadata": {},
   "outputs": [],
   "source": [
    "data_series"
   ]
  },
  {
   "cell_type": "code",
   "execution_count": null,
   "id": "0397b7f4-df17-4ee6-82ab-59789a66b7ea",
   "metadata": {},
   "outputs": [],
   "source": [
    "import numpy as np\n",
    "\n",
    "data = np.array(time_series).ravel()\n",
    "\n",
    "ds = xr.Dataset({'Temperature': data})\n",
    "ds['Temperature'].plot()"
   ]
  }
 ],
 "metadata": {
  "kernelspec": {
   "display_name": "Python 3 (ipykernel)",
   "language": "python",
   "name": "python3"
  },
  "language_info": {
   "codemirror_mode": {
    "name": "ipython",
    "version": 3
   },
   "file_extension": ".py",
   "mimetype": "text/x-python",
   "name": "python",
   "nbconvert_exporter": "python",
   "pygments_lexer": "ipython3",
   "version": "3.8.10"
  }
 },
 "nbformat": 4,
 "nbformat_minor": 5
}
