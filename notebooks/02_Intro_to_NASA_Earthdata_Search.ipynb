{
 "cells": [
  {
   "cell_type": "markdown",
   "id": "242f1f43-4887-4f5e-9740-341f0325f63d",
   "metadata": {},
   "source": [
    "# M1.2 - Introduction to NASA Earthdata Search\n",
    "\n",
    "*Part of:* **M1: Open Climate Data**"
   ]
  },
  {
   "cell_type": "markdown",
   "id": "9b25df7a-100d-4ee0-8ad9-0171a3f575c8",
   "metadata": {},
   "source": [
    "**Contents:**\n",
    "\n",
    "- [Creating an account](#Creating-an-account)\n",
    "- [How to use Earthdata Search](#How-to-use-Earthdata-Search)\n",
    "- [Searching for data](#Searching-for-data)"
   ]
  },
  {
   "cell_type": "markdown",
   "id": "d8fa99ce-4372-4e9d-86c4-be69293d1676",
   "metadata": {},
   "source": [
    "## Creating an account\n",
    "\n",
    "NASA's Earthdata is a comprehensive repository of all of NASA's earth science datasets. Earthdata Search is the search engine we can use to explore those datasets.\n",
    "\n",
    "- [Register for an Earthdata account here.](https://urs.earthdata.nasa.gov/users/new)"
   ]
  },
  {
   "cell_type": "markdown",
   "id": "67b15d22-0eb9-487f-a855-430e74ce08a2",
   "metadata": {},
   "source": [
    "## How to use Earthdata Search\n",
    "\n",
    "**Let's familiarize ourselves with Earthdata Search by searching for some climate data.**\n",
    "\n",
    "1. Once you're logged in, look at the left-hand side panel. Under **\"Filter Collections,\"** expand the heading that reads **\"Keywords.\"**\n",
    "![](./assets/M1_screenshot_Earthdata_Search_keywords.png)\n",
    "2. Check the box that reads **\"Climate Indicators.\"**\n",
    "3. The choices in this section can be overwhelming! Let's break down the information presented on the right-hand side of the search panel...\n",
    "- Each dataset contains a certain number of **granules,** which is another name for a data file.\n",
    "- Each dataset spans a certain time period; for example, \"2003-02-03 ongoing\" means that the data have been collected continuously since February 3, 2003.\n",
    "- Some datasets have an icon that reads **\"Earthdata Cloud,\"** which means that the dataset is available in the cloud, without the need to download data files to your computer. We'll see how to do this later in the curriculum."
   ]
  },
  {
   "cell_type": "markdown",
   "id": "b07f7513-f8b1-4b20-bf58-d560738f66cb",
   "metadata": {},
   "source": [
    "### Information about each dataset\n",
    "\n",
    "**If you hover over one of the datasets in the right-half of this panel, an information (i) icon will appear.** See the screenshot below for an example. **Click this (i) button.**\n",
    "\n",
    "![](./assets/M1_screenshot_Earthdata_Search_dataset_hovering.png)\n",
    "\n",
    "There's a lot of important information here. First, at the very top of this information page, you'll see three boxes, as in the following example:\n",
    "\n",
    "![](./assets/M1_screenshot_Earthdata_Search_info_page.png)\n",
    "\n",
    "- **A short name that uniquely identifies this dataset;** in this example, it is: `GRACEADM_CLSM025GL_7D`\n",
    "- **A version number;** in this example, it is: `Version 3.0`\n",
    "- **A digital object identifier (DOI).** A DOI is like a website's URL, except that it can uniquely identify any kind of digital information, most often a dataset. If you use a dataset in your research, you should make sure to cite that dataset's DOI in any publication."
   ]
  },
  {
   "cell_type": "markdown",
   "id": "731410f6-a26e-4be7-8efa-e729e8df5c87",
   "metadata": {},
   "source": [
    "---\n",
    "\n",
    "## Searching for data\n",
    "\n",
    "In addition to browsing for datasets by thematic area (like \"Climate Indicators\"), we can search for datasets by name or keyword, just like when we use an internet search engine.\n",
    "\n",
    "**Type \"MERRA-2\" into the search box at the top-left of this page, as in the screenshot below.**\n",
    "\n",
    "![](./assets/M1_screenshot_Earthdata_Search_text_box_search.png)"
   ]
  },
  {
   "cell_type": "markdown",
   "id": "1d7b22c3-3a57-41cd-8164-c756f74393ee",
   "metadata": {},
   "source": [
    "**Why are there only \"5 Matching Collections\"?** \n",
    "\n",
    "**We forgot to un-check the \"Climate Indicators\" keyword, from our previous search!** After un-checking that box, there should be hundreds of collections available."
   ]
  }
 ],
 "metadata": {
  "kernelspec": {
   "display_name": "Python 3 (ipykernel)",
   "language": "python",
   "name": "python3"
  },
  "language_info": {
   "codemirror_mode": {
    "name": "ipython",
    "version": 3
   },
   "file_extension": ".py",
   "mimetype": "text/x-python",
   "name": "python",
   "nbconvert_exporter": "python",
   "pygments_lexer": "ipython3",
   "version": "3.10.12"
  }
 },
 "nbformat": 4,
 "nbformat_minor": 5
}
