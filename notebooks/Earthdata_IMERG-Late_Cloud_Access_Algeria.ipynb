{
 "cells": [
  {
   "cell_type": "markdown",
   "id": "97e56497-bb38-4188-ac4f-3467d7edb6a9",
   "metadata": {},
   "source": [
    "# Accessing IMERG-Late Data in the Cloud (Algeria)"
   ]
  },
  {
   "cell_type": "markdown",
   "id": "77a08aca-1f62-4894-b79f-24d92a1136f8",
   "metadata": {},
   "source": [
    "Parts of northern Algeria and Tunisia experienced flash floods in May 2023. Let's use the IMERG-Late product to quantify the total precipitation that fell across the country on one day in that region."
   ]
  },
  {
   "cell_type": "code",
   "execution_count": null,
   "id": "5af7c0c0-b184-4c29-98f1-94033f52e678",
   "metadata": {},
   "outputs": [],
   "source": [
    "import earthaccess\n",
    "import xarray as xr\n",
    "from matplotlib import pyplot\n",
    "\n",
    "auth = earthaccess.login()"
   ]
  },
  {
   "cell_type": "markdown",
   "id": "91606a2f-50bc-4817-8399-7d3cbe5501aa",
   "metadata": {},
   "source": [
    "## Using `earthaccess`"
   ]
  },
  {
   "cell_type": "markdown",
   "id": "b712bf96-d42d-4604-b973-9f283b3e679f",
   "metadata": {},
   "source": [
    "While IMERG-Late is produced in 30-minute intervals, today we'll be using a version of the data that have been aggregated to daily time steps."
   ]
  },
  {
   "cell_type": "code",
   "execution_count": null,
   "id": "a9c1227d-a06b-4fab-8b12-966915e67dcb",
   "metadata": {},
   "outputs": [],
   "source": [
    "results = earthaccess.search_data(\n",
    "    short_name = 'GPM_3IMERGDL',\n",
    "    temporal = ('2023-05-12', '2023-05-13'))\n",
    "results[0]"
   ]
  },
  {
   "cell_type": "code",
   "execution_count": null,
   "id": "3f97ff3f-35c0-4555-945b-0060c1c54be9",
   "metadata": {},
   "outputs": [],
   "source": [
    "# NOTE: open() requires a sequence of file references\n",
    "files = earthaccess.open(results)\n",
    "files"
   ]
  },
  {
   "cell_type": "code",
   "execution_count": null,
   "id": "fbb2c0ba-9ae5-497c-a421-3e14404185e3",
   "metadata": {},
   "outputs": [],
   "source": [
    "ds = xr.open_dataset(files[0])\n",
    "ds"
   ]
  },
  {
   "cell_type": "markdown",
   "id": "7c6dfa1c-877f-444a-bf37-368a20d497e4",
   "metadata": {},
   "source": [
    "There are a lot of different variables in this dataset, all described in [the IMERG-Late documentation.](https://disc.gsfc.nasa.gov/datasets/GPM_3IMERGHHL_06/summary). We'll use `precipitationCal`, which is the gauge-calibrated, multi-satellite estimate that NASA recommends for general use."
   ]
  },
  {
   "cell_type": "code",
   "execution_count": null,
   "id": "c018b6e0-1ec9-49a2-9164-2d7edef4f7e0",
   "metadata": {},
   "outputs": [],
   "source": [
    "ds['precipitationCal']"
   ]
  },
  {
   "cell_type": "code",
   "execution_count": null,
   "id": "e58d5dd5-6875-4c8b-ac3e-6eb05cce34fe",
   "metadata": {},
   "outputs": [],
   "source": [
    "ds['precipitationCal'].plot()"
   ]
  },
  {
   "cell_type": "markdown",
   "id": "1fef4062-7218-44cd-8f27-bee1dd9763e7",
   "metadata": {},
   "source": [
    "That looks weird! Any ideas about what is wrong?\n",
    "\n",
    "We need to rotate the plot so that the rows of the image correspond to latitude bands. **Specifically, we need to tell `xarray` that longitude (\"lon\") should span the X-axis and latitude (\"lat\") should span the Y-axis.**"
   ]
  },
  {
   "cell_type": "code",
   "execution_count": null,
   "id": "bfe90a5f-ff63-4351-9e4f-d4e0cb2d1aa8",
   "metadata": {},
   "outputs": [],
   "source": [
    "ds['precipitationCal'].plot(x = 'lon', y = 'lat')"
   ]
  },
  {
   "cell_type": "markdown",
   "id": "472bc1db-feb9-4155-a588-316308df0ddd",
   "metadata": {},
   "source": [
    "This looks better. IMERG doesn't make estimates over ice and snow-covered area, so you may recognize parts of Iceland, Norway, and Sweden in the upper-center of the image.\n",
    "\n",
    "Why is most of the image dark?\n",
    "\n",
    "The easiest way to see more detail in the image is to tell `xarray` to stretch the colorbar so that extreme values don't dominate; we do this with `robust = True`."
   ]
  },
  {
   "cell_type": "code",
   "execution_count": null,
   "id": "d5a69102-470d-4f03-abc1-22a500d8eabd",
   "metadata": {},
   "outputs": [],
   "source": [
    "ds['precipitationCal'].plot(x = 'lon', y = 'lat', robust = True)"
   ]
  },
  {
   "cell_type": "markdown",
   "id": "28114562-e23a-480e-ba4d-ad2d3a03121b",
   "metadata": {},
   "source": [
    "Alternatively, we could tell `xarray` what the maximum value assigned to a color should be, using the `vmax` keyword argument. There's a corresponding `vmin` argument for the minimum value."
   ]
  },
  {
   "cell_type": "code",
   "execution_count": null,
   "id": "bf995ae9-2736-4564-ba6c-56ee0d41878b",
   "metadata": {},
   "outputs": [],
   "source": [
    "ds['precipitationCal'].plot(x = 'lon', y = 'lat', vmax = 15)"
   ]
  },
  {
   "cell_type": "code",
   "execution_count": null,
   "id": "e7d32154-e072-40a8-a533-90692a334b9b",
   "metadata": {},
   "outputs": [],
   "source": [
    "ds['precipitationCal'].sel(lat = slice(30, 40), lon = slice(0, 6)).plot()"
   ]
  },
  {
   "cell_type": "code",
   "execution_count": null,
   "id": "559ee129-b5f9-4753-a6f7-5bb39e78ccb2",
   "metadata": {},
   "outputs": [],
   "source": [
    "precip = ds['precipitationCal'].sel(lat = slice(30, 40), lon = slice(0, 6))"
   ]
  },
  {
   "cell_type": "markdown",
   "id": "b361de0f-a923-49d0-9305-1757d5f738a4",
   "metadata": {},
   "source": [
    "## Using `cartopy`"
   ]
  },
  {
   "cell_type": "code",
   "execution_count": null,
   "id": "8e65db8f-9a87-4454-bd6b-89e766f436b8",
   "metadata": {},
   "outputs": [],
   "source": [
    "from cartopy import crs\n",
    "\n",
    "style = {\n",
    "    'projection': crs.Orthographic(3, 36),\n",
    "    'facecolor': 'lightgray'\n",
    "}\n",
    "\n",
    "plot = precip.plot(subplot_kws = style, transform = crs.Orthographic(3, 36))\n",
    "plot.axes.coastlines()"
   ]
  }
 ],
 "metadata": {
  "kernelspec": {
   "display_name": "Python 3 (ipykernel)",
   "language": "python",
   "name": "python3"
  },
  "language_info": {
   "codemirror_mode": {
    "name": "ipython",
    "version": 3
   },
   "file_extension": ".py",
   "mimetype": "text/x-python",
   "name": "python",
   "nbconvert_exporter": "python",
   "pygments_lexer": "ipython3",
   "version": "3.8.10"
  }
 },
 "nbformat": 4,
 "nbformat_minor": 5
}
