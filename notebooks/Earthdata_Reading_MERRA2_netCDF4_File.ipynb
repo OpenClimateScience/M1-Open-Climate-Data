{
 "cells": [
  {
   "cell_type": "markdown",
   "id": "fe907825-4ecb-49ff-be54-8856d7937703",
   "metadata": {},
   "source": [
    "# Reading MERRA-2 Data from a Downloaded netCDF4 File"
   ]
  },
  {
   "cell_type": "code",
   "execution_count": null,
   "id": "5af7c0c0-b184-4c29-98f1-94033f52e678",
   "metadata": {},
   "outputs": [],
   "source": [
    "import xarray as xr\n",
    "from matplotlib import pyplot"
   ]
  },
  {
   "cell_type": "markdown",
   "id": "a2d55172-6b90-434c-aaa7-7885cf75eb48",
   "metadata": {},
   "source": [
    "We'll use a Python package called `xarray` to open the netCDF4 file we downloaded. `xarray` is designed for working with multi-dimensional gridded datasets.\n",
    "\n",
    "![](./assets/xarray-dataset.png)"
   ]
  },
  {
   "cell_type": "markdown",
   "id": "160d50e5-772b-4a91-ad38-9ce28ec10303",
   "metadata": {},
   "source": [
    "As shown in the figure above, a single `xarray.Dataset` can contain multiple variables like temperature, precipitation, latitude, and longitude. Each variable is stored as an array, specifically an `xarray.DataArray`. While latitude and longitude are constant over time, and are therefore represented as 2D arrays, variables like temperature and precipitation vary over both time and space, so they can be represented as 3D **data cubes.** The x, y, and time (t) **axes** (also called **dimensions**) can be used to subset the arrays to time periods or study areas of interest."
   ]
  },
  {
   "cell_type": "markdown",
   "id": "9d96d231-fbd8-4209-ae4e-5d41a58d3387",
   "metadata": {},
   "source": [
    "## Using a Downloaded netCDF4 File"
   ]
  },
  {
   "cell_type": "markdown",
   "id": "e7ad8f44-06f5-4ae1-9bf1-8cdd1048bda9",
   "metadata": {},
   "source": [
    "We can open a netCDF4 file in `xarray` using the `open_dataset()` function."
   ]
  },
  {
   "cell_type": "code",
   "execution_count": null,
   "id": "f99f9b11-3492-4c16-9311-318f1dadd71d",
   "metadata": {
    "scrolled": true
   },
   "outputs": [],
   "source": [
    "ds = xr.open_dataset('/home/arthur.endsley/Downloads/MERRA2_400.statD_2d_slv_Nx.20230701.nc4')\n",
    "ds"
   ]
  },
  {
   "cell_type": "markdown",
   "id": "a2d6707b-746e-4595-96b7-ff2c07b2dfce",
   "metadata": {},
   "source": [
    "We can see that this dataset has three **dimensions** or axes: longitude (\"lon\"), latitude (\"lat\"), and time. That means each variable in the dataset should have these three dimensions.\n",
    "\n",
    "Variables in an `xarray.Dataset` can be accessed like the keys of a Python dictionary."
   ]
  },
  {
   "cell_type": "code",
   "execution_count": null,
   "id": "bcaa8c22-b65e-4c1e-bb2f-bc75be54a90e",
   "metadata": {},
   "outputs": [],
   "source": [
    "ds['T2MMIN']"
   ]
  },
  {
   "cell_type": "markdown",
   "id": "764be491-9563-4f96-8b09-96c281fc34a5",
   "metadata": {},
   "source": [
    "**One of the things that makes netCDF4 files special is that they are able to store both data and metadata, or attributes.**"
   ]
  },
  {
   "cell_type": "code",
   "execution_count": null,
   "id": "d0a8646f-c2be-49fc-905b-1cfbf936c0bf",
   "metadata": {},
   "outputs": [],
   "source": [
    "ds['T2MMIN'].attrs"
   ]
  },
  {
   "cell_type": "markdown",
   "id": "37a58239-d47a-4f04-9718-db482a433b35",
   "metadata": {},
   "source": [
    "Attributes can store vital information about data. For example, it would be hard to make use of temperature data if you didn't know the correct units for the data.\n",
    "\n",
    "`xarray` brings some convenient built-in tools for analyzing our data, such as the ability to plot datasets."
   ]
  },
  {
   "cell_type": "code",
   "execution_count": null,
   "id": "b4492e82-5c06-4728-bcf5-cd4697c25c96",
   "metadata": {},
   "outputs": [],
   "source": [
    "ds['T2MMIN'].plot()"
   ]
  },
  {
   "cell_type": "markdown",
   "id": "cbf13d99-ac79-4785-b9e7-3dc5cd74845c",
   "metadata": {},
   "source": [
    "The underlying data arrays are just NumPy arrays, so if we ever want to work with a NumPy array instead..."
   ]
  },
  {
   "cell_type": "code",
   "execution_count": null,
   "id": "63be63b7-6aa0-4999-9d1c-7e5cfdfe5d12",
   "metadata": {},
   "outputs": [],
   "source": [
    "ds['T2MMIN'].data"
   ]
  },
  {
   "cell_type": "code",
   "execution_count": null,
   "id": "dc15f3c0-58fb-4c99-81a1-6e92a86d214e",
   "metadata": {},
   "outputs": [],
   "source": [
    "ds['T2MMIN'].data.shape"
   ]
  },
  {
   "cell_type": "markdown",
   "id": "05d85a4e-8173-4d15-a68b-c06fc52eb598",
   "metadata": {},
   "source": [
    "---\n",
    "\n",
    "## Working with `xarray` DataArrays"
   ]
  },
  {
   "cell_type": "code",
   "execution_count": null,
   "id": "3641d2a6-3e64-455e-beaf-2726c0446c51",
   "metadata": {},
   "outputs": [],
   "source": [
    "tmin = ds['T2MMIN']\n",
    "tmin.attrs"
   ]
  },
  {
   "cell_type": "markdown",
   "id": "b91623b2-584b-4e7b-af15-9562d123cede",
   "metadata": {},
   "source": [
    "As with NumPy arrays, we can treat a DataArray just like a number, making mathematical transformations of our data easy. For example, we might want to convert our minimum temperatures from degrees K to degrees C."
   ]
  },
  {
   "cell_type": "code",
   "execution_count": null,
   "id": "7209acc9-ea8f-4c3f-830f-2470055d296e",
   "metadata": {},
   "outputs": [],
   "source": [
    "# Convert temperatures from deg K to deg C\n",
    "tmin_c = tmin - 273.15"
   ]
  },
  {
   "cell_type": "markdown",
   "id": "ffdb847c-d30e-499f-ab4d-39a749280176",
   "metadata": {},
   "source": [
    "One thing to be aware of is that when we do this kind of operation, we lose the attributes of the original DataArray. This is because the old attributes may no longer apply; in fact, we already know the \"units\" of the old DataArray (degrees K) are no longer accurate."
   ]
  },
  {
   "cell_type": "code",
   "execution_count": null,
   "id": "e4eda429-af4f-4910-8d30-ed69d22a8931",
   "metadata": {},
   "outputs": [],
   "source": [
    "tmin_c.attrs"
   ]
  },
  {
   "cell_type": "markdown",
   "id": "cfa9a627-cec8-4a7e-abc7-25ff6aa524e3",
   "metadata": {},
   "source": [
    "We can assign attributes at any time, using a Python dictionary syntax."
   ]
  },
  {
   "cell_type": "code",
   "execution_count": null,
   "id": "803a58d7-afe5-4901-9988-4e4f888d9456",
   "metadata": {},
   "outputs": [],
   "source": [
    "tmin_c.attrs['units'] = 'degrees K'\n",
    "tmin_c.attrs"
   ]
  },
  {
   "cell_type": "markdown",
   "id": "3d74d170-9bff-4736-8f65-09520951134d",
   "metadata": {},
   "source": [
    "---\n",
    "\n",
    "## Subsetting Gridded Datasets Using `xarray`"
   ]
  },
  {
   "cell_type": "markdown",
   "id": "0b6a620d-c9f8-4a68-b368-2af5122a3210",
   "metadata": {},
   "source": [
    "Because we downloaded daily average data from MERRA-2, there is only one 2D grid of temperatures in this dataset. That means our time dimension has a length of one."
   ]
  },
  {
   "cell_type": "code",
   "execution_count": null,
   "id": "bd0f92d4-cc52-4aca-8116-eb9d8921e03d",
   "metadata": {},
   "outputs": [],
   "source": [
    "tmin.shape"
   ]
  },
  {
   "cell_type": "markdown",
   "id": "443aece7-0206-4282-8aad-6336fa6ad8ab",
   "metadata": {},
   "source": [
    "If we needed to subset our dataset to a specific time, we could use numeric indices, just like with a NumPy array."
   ]
  },
  {
   "cell_type": "code",
   "execution_count": null,
   "id": "2b80f81a-862c-4aa3-8e26-1d94f8299d2e",
   "metadata": {},
   "outputs": [],
   "source": [
    "tmin[0]"
   ]
  },
  {
   "cell_type": "markdown",
   "id": "0e3f8d10-0427-46a0-9224-4f04d64cc432",
   "metadata": {},
   "source": [
    "Similarly, if we wanted to get a time series of values at specific row-column coordinates, we could write:"
   ]
  },
  {
   "cell_type": "code",
   "execution_count": null,
   "id": "d11b230a-542d-4fff-8499-8f1ca76891ed",
   "metadata": {},
   "outputs": [],
   "source": [
    "# Get all values on the time axis for the position: row 50, column 100\n",
    "tmin[:,50,100]"
   ]
  },
  {
   "cell_type": "markdown",
   "id": "2fd2fe16-7f1b-48ba-8f9a-cfa3ba88e6a2",
   "metadata": {},
   "source": [
    "**But we often don't know the exact row-column position(s) of locations we're interested in. How can we select values based on longitude and latitude, instead?**"
   ]
  },
  {
   "cell_type": "code",
   "execution_count": null,
   "id": "31dafe26-303e-4995-9ce6-430a75565a0c",
   "metadata": {},
   "outputs": [],
   "source": [
    "# 2-meter minimum temperature at the South Pole\n",
    "ds['T2MMIN'].sel(lat = -90, lon = -180)"
   ]
  },
  {
   "cell_type": "markdown",
   "id": "9e2f2ddf-1c2e-4843-ac3f-4aa36ae2c579",
   "metadata": {},
   "source": [
    "Note: In a different dataset, the latitude and longitude coordinates may have different names!"
   ]
  },
  {
   "cell_type": "code",
   "execution_count": null,
   "id": "abed7df0-fb78-4389-a687-dfc1cfe85453",
   "metadata": {},
   "outputs": [],
   "source": [
    "ds['T2MMIN'].sel(lat = -90, lon = -180).values"
   ]
  },
  {
   "cell_type": "markdown",
   "id": "25cc4600-2a8d-43fd-8ea3-5ca007863b9d",
   "metadata": {},
   "source": [
    "What's the minimum temperature in Algiers?"
   ]
  },
  {
   "cell_type": "code",
   "execution_count": null,
   "id": "109d7ade-cc88-4a75-8495-b1d22545cffd",
   "metadata": {},
   "outputs": [],
   "source": [
    "ds['T2MMIN'].sel(lat = 36.754, lon = 3.059)"
   ]
  },
  {
   "cell_type": "markdown",
   "id": "2d2e03b2-5dae-4bd7-8fb0-da40fe56453a",
   "metadata": {},
   "source": [
    "What happened? If we examine our dataset's coordinates, we'll see that there is no exact match for the longitude and latitude pair we provided; they only come in regularly spaced intervals of 0.25 or 0.5 degrees."
   ]
  },
  {
   "cell_type": "code",
   "execution_count": null,
   "id": "86ae2134-ef7b-4490-b9cd-1a4b533fd22e",
   "metadata": {},
   "outputs": [],
   "source": [
    "ds['lon'].values[0:10]"
   ]
  },
  {
   "cell_type": "code",
   "execution_count": null,
   "id": "69b2c0c1-8a56-44bb-b1f2-c5536ef352fa",
   "metadata": {},
   "outputs": [],
   "source": [
    "ds['lat'].values[0:10]"
   ]
  },
  {
   "cell_type": "markdown",
   "id": "c8ea34ed-a7c4-4fa2-bbe8-694b2beb4d18",
   "metadata": {},
   "source": [
    "Note that we must specify a `method` here because the coordinates of Algiers don't exactly match the coordinates of each grid cell's center; i.e., we must ask for a nearest-neighbor interpolation."
   ]
  },
  {
   "cell_type": "code",
   "execution_count": null,
   "id": "5b805f98-7db0-4c6b-ab59-9cd155470392",
   "metadata": {},
   "outputs": [],
   "source": [
    "ds['T2MMIN'].sel(lat = 36.754, lon = 3.059, method = 'nearest').values"
   ]
  },
  {
   "cell_type": "markdown",
   "id": "04232082-8d0e-4d4e-94be-efc6366ee9f7",
   "metadata": {},
   "source": [
    "Another way we can get the answer we want is to use the `interp()` function. **Notice that the answer we get is slightly different than what we got above.** That's because the previous answer used *nearest-neighbor interpolation* but the `interp()` function uses *linear interpolation* by default. There are many other choices for interpolation using the `interp()` function."
   ]
  },
  {
   "cell_type": "code",
   "execution_count": null,
   "id": "4a01b3f4-ea3a-4359-866f-88b82b7cf633",
   "metadata": {},
   "outputs": [],
   "source": [
    "ds['T2MMIN'].interp(lat = 36.754, lon = 3.059)"
   ]
  },
  {
   "cell_type": "markdown",
   "id": "0b543012-dc42-4e2d-8970-80be55b12b7e",
   "metadata": {},
   "source": [
    "### Slicing Arrays"
   ]
  },
  {
   "cell_type": "markdown",
   "id": "fb20741c-f4de-441a-a5ac-31a2ac76b508",
   "metadata": {},
   "source": [
    "What if we want to see an area of interest that extends beyond a single longitude-latitude grid cell? We can retrieve a rectangular subset of an array using Python's built-in `slice()` function along with the `xarray` `sel()` function."
   ]
  },
  {
   "cell_type": "code",
   "execution_count": null,
   "id": "c432fab7-5c97-4477-acd1-aee9739d5c04",
   "metadata": {},
   "outputs": [],
   "source": [
    "aoi = ds['T2MMIN'].sel(lon = slice(-50, 50), lat = slice(-50, 50))\n",
    "aoi"
   ]
  },
  {
   "cell_type": "code",
   "execution_count": null,
   "id": "d6a261f2-21a9-42a1-abd5-c4dfcf5d4ba6",
   "metadata": {},
   "outputs": [],
   "source": [
    "aoi.plot()"
   ]
  }
 ],
 "metadata": {
  "kernelspec": {
   "display_name": "Python 3 (ipykernel)",
   "language": "python",
   "name": "python3"
  },
  "language_info": {
   "codemirror_mode": {
    "name": "ipython",
    "version": 3
   },
   "file_extension": ".py",
   "mimetype": "text/x-python",
   "name": "python",
   "nbconvert_exporter": "python",
   "pygments_lexer": "ipython3",
   "version": "3.8.10"
  }
 },
 "nbformat": 4,
 "nbformat_minor": 5
}
