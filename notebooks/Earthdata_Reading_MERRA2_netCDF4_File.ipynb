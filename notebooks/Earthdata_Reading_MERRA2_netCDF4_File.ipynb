{
 "cells": [
  {
   "cell_type": "markdown",
   "id": "fe907825-4ecb-49ff-be54-8856d7937703",
   "metadata": {},
   "source": [
    "# Reading MERRA-2 Data from a Downloaded netCDF4 File"
   ]
  },
  {
   "cell_type": "code",
   "execution_count": null,
   "id": "5af7c0c0-b184-4c29-98f1-94033f52e678",
   "metadata": {},
   "outputs": [],
   "source": [
    "import xarray as xr\n",
    "from matplotlib import pyplot"
   ]
  },
  {
   "cell_type": "markdown",
   "id": "9d96d231-fbd8-4209-ae4e-5d41a58d3387",
   "metadata": {},
   "source": [
    "## Using a Downloaded netCDF4 File"
   ]
  },
  {
   "cell_type": "code",
   "execution_count": null,
   "id": "f99f9b11-3492-4c16-9311-318f1dadd71d",
   "metadata": {
    "scrolled": true
   },
   "outputs": [],
   "source": [
    "ds = xr.open_dataset('/home/arthur.endsley/Downloads/MERRA2_400.statD_2d_slv_Nx.20230701.nc4')\n",
    "ds"
   ]
  },
  {
   "cell_type": "code",
   "execution_count": null,
   "id": "bcaa8c22-b65e-4c1e-bb2f-bc75be54a90e",
   "metadata": {},
   "outputs": [],
   "source": [
    "ds['T2MMIN']"
   ]
  },
  {
   "cell_type": "code",
   "execution_count": null,
   "id": "d0a8646f-c2be-49fc-905b-1cfbf936c0bf",
   "metadata": {},
   "outputs": [],
   "source": [
    "ds['T2MMIN'].attrs"
   ]
  },
  {
   "cell_type": "code",
   "execution_count": null,
   "id": "b4492e82-5c06-4728-bcf5-cd4697c25c96",
   "metadata": {},
   "outputs": [],
   "source": [
    "ds['T2MMIN'].plot()"
   ]
  },
  {
   "cell_type": "code",
   "execution_count": null,
   "id": "63be63b7-6aa0-4999-9d1c-7e5cfdfe5d12",
   "metadata": {},
   "outputs": [],
   "source": [
    "ds['T2MMIN'].data"
   ]
  },
  {
   "cell_type": "code",
   "execution_count": null,
   "id": "dc15f3c0-58fb-4c99-81a1-6e92a86d214e",
   "metadata": {},
   "outputs": [],
   "source": [
    "ds['T2MMIN'].data.shape"
   ]
  },
  {
   "cell_type": "code",
   "execution_count": null,
   "id": "31dafe26-303e-4995-9ce6-430a75565a0c",
   "metadata": {},
   "outputs": [],
   "source": [
    "ds['T2MMIN'].sel(lat = -90, lon = -180)"
   ]
  },
  {
   "cell_type": "code",
   "execution_count": null,
   "id": "abed7df0-fb78-4389-a687-dfc1cfe85453",
   "metadata": {},
   "outputs": [],
   "source": [
    "ds['T2MMIN'].sel(lat = -90, lon = -180).values"
   ]
  },
  {
   "cell_type": "markdown",
   "id": "25cc4600-2a8d-43fd-8ea3-5ca007863b9d",
   "metadata": {},
   "source": [
    "What's the minimum temperature in Algiers? Note that we must specify a `method` here because the coordinates of Algiers don't exactly match the coordinates of each grid cell's center; i.e., we must ask for a nearest-neighbor interpolation."
   ]
  },
  {
   "cell_type": "code",
   "execution_count": null,
   "id": "5b805f98-7db0-4c6b-ab59-9cd155470392",
   "metadata": {},
   "outputs": [],
   "source": [
    "ds['T2MMIN'].sel(lat = 36.754, lon = 3.059, method = 'nearest').values"
   ]
  },
  {
   "cell_type": "markdown",
   "id": "617f2453-f5da-4bb0-b991-e18acc316e98",
   "metadata": {},
   "source": [
    "## TODO Too early for this example"
   ]
  },
  {
   "cell_type": "code",
   "execution_count": null,
   "id": "583f0545-60b6-4e3a-bd55-e4fd06baf83e",
   "metadata": {},
   "outputs": [],
   "source": [
    "ds['T2MMIN'].sel(lat = slice(30, 40), lon = slice(0, 6)).plot()"
   ]
  }
 ],
 "metadata": {
  "kernelspec": {
   "display_name": "Python 3 (ipykernel)",
   "language": "python",
   "name": "python3"
  },
  "language_info": {
   "codemirror_mode": {
    "name": "ipython",
    "version": 3
   },
   "file_extension": ".py",
   "mimetype": "text/x-python",
   "name": "python",
   "nbconvert_exporter": "python",
   "pygments_lexer": "ipython3",
   "version": "3.8.10"
  }
 },
 "nbformat": 4,
 "nbformat_minor": 5
}
