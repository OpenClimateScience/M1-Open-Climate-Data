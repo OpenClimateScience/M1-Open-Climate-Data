{
 "cells": [
  {
   "cell_type": "markdown",
   "id": "69c50d9c",
   "metadata": {},
   "source": [
    "# M1.1 - Sources de données climatiques\n",
    "\n",
    "*Partie de:* [**Open Climate Data**](https://github.com/OpenClimateScience/M1-Open-Climate-Data) | **Leçon précédente** | **Leçon suivante**"
   ]
  },
  {
   "cell_type": "markdown",
   "id": "0614eda1",
   "metadata": {},
   "source": [
    "**Contenu :**\n",
    "\n",
    "1. [Météo versus Climat](#Weather-versus-Climate)\n",
    "2. [Problèmes liés à la collecte des données climatiques](#Issues-with-climate-data-collection)\n",
    "3. [Capteurs et stations au sol](#Sensors-and-ground-stations)\n",
    "4. [Interpolation des données des stations](#Interpolating-station-data)"
   ]
  },
  {
   "cell_type": "markdown",
   "id": "bcdd384b",
   "metadata": {},
   "source": [
    "## Météo versus Climat\n",
    "\n",
    "On entend souvent les mots \"météo\" et \"climat\" utilisés de manière interchangeable. Pour clarifier :\n",
    "\n",
    "- **Météo** fait référence aux conditions atmosphériques actuelles, généralement à des échelles de temps horaires ou quotidiennes. Par exemple, la météo \"cet après-midi\" pourrait inclure le taux de précipitations horaires ou la température moyenne. La météo \"d'hier\" pourrait inclure le total des précipitations quotidiennes, la température maximale quotidienne ou les heures d'ensoleillement quotidiennes.\n",
    "\n",
    "- **Climat** fait référence au schéma prédominant à long terme des conditions atmosphériques. Par exemple, la quantité moyenne annuelle de précipitations décrit la quantité de précipitations que vous pouvez *typiquement* attendre en une année. Les descriptions du climat sont toujours basées sur une période de temps fixe, qu'elle soit spécifiée ou non. Lorsque nous parlons de la température mensuelle moyenne, par exemple, cela doit être basé sur une période de référence, comme la moyenne des années 1950 à 2000.\n",
    "\n",
    "**Cependant, dans ce programme, nous utiliserons souvent le terme *\"données climatiques\"* pour désigner les deux types de données, pour simplifier.**"
   ]
  },
  {
   "cell_type": "markdown",
   "id": "a76a176c",
   "metadata": {},
   "source": [
    "## Variabilité climatique dans les systèmes agricoles\n",
    "\n",
    "Le cycle de l'eau et de l'énergie sont liés dans tout le système climatique de la Terre parce que le soleil réchauffe l'air et la surface de la Terre, entraîne la photosynthèse et évapore l'eau. Pour comprendre les impacts climatiques sur l'agriculture, nous aimerions mesurer les variables climatiques suivantes :\n",
    "\n",
    "- Température de l'air\n",
    "- Température de la surface/ du sol\n",
    "- Rayonnement solaire\n",
    "- Quantité de précipitations\n",
    "- Évapotranspiration\n",
    "- Humidité (ou déficit de pression de vapeur)\n",
    "- Humidité du sol\n",
    "\n",
    "Dans ce module, nous discuterons des contraintes des données climatiques, des modèles statistiques et physiques utilisés pour prédire les conditions climatiques, et de l'utilisation de capteurs et de stations au sol pour collecter des données en temps réel. Nous aborderons également l'interpolation des données des stations pour estimer les conditions météorologiques dans des endroits difficiles d'accès."
   ]
  },
  {
   "cell_type": "markdown",
   "id": "4398117d",
   "metadata": {},
   "source": [
    "## Problèmes liés à la collecte des données climatiques\n",
    "\n",
    "La collecte des données climatiques peut être compliquée en raison de la variabilité des conditions météorologiques, des difficultés d'accès à certains sites, et des limitations des modèles climatiques. Les modèles météorologiques, par exemple, peuvent avoir une résolution spatiale limitée, ce qui signifie qu'ils pourraient décrire la température ou la vitesse du vent pour une zone bien plus grande qu'un champ agricole ou même qu'une ville ou un district administratif."
   ]
  },
  {
   "cell_type": "markdown",
   "id": "f6350eac",
   "metadata": {},
   "source": [
    "## Capteurs et stations au sol\n",
    "\n",
    "Il existe de nombreuses sources de données météorologiques. En plus des capteurs installés sur les stations météorologiques au sol, il existe plusieurs capteurs aéroportés et satellites en orbite terrestre qui fournissent des données en temps réel sur les conditions météorologiques. **Considérez les différentes sources de données météorologiques (et climatiques) dans l'image ci-dessous.**\n",
    "\n",
    "![](./assets/M1_fig_weather_data_sources.jpg)\n",
    "\n",
    "*Image utilisée avec la permission de l'Organisation météorologique mondiale (OMM).*"
   ]
  },
  {
   "cell_type": "markdown",
   "id": "9478157e",
   "metadata": {},
   "source": [
    "## Interpolation des données des stations\n",
    "\n",
    "Il est possible de déterminer les conditions météorologiques dans un lieu difficile d'accès, à condition qu'il y ait une station de base à proximité. Il existe plusieurs principes physiques que nous pouvons utiliser pour interpoler les conditions météorologiques à un site sur la base d'un ou plusieurs emplacements proches où les conditions météorologiques sont surveillées. **Nous savons que la température de l'air diminue avec l'altitude à un certain rythme, en fonction de l'humidité (voir l'image ci-dessous).**\n",
    "\n",
    "Nous savons également que, dans les terrains montagneux, certaines zones sont ombragées plus longtemps que d'autres. La couverture végétale peut impacter la température sensible à la fois parce que la végétation ombrage le sol et parce que, par temps froid, la végétation elle-même peut être une petite source de chaleur. Ces facteurs physiques et d'autres encore peuvent nous aider à inférer les conditions météorologiques à un endroit non surveillé en utilisant un modèle. Ce modèle pourrait être un simple modèle statistique ou un modèle physique complexe.\n",
    "\n",
    "![](./assets/M1_fig_temperature_lapse.png)\n",
    "\n",
    "*Photographie originale utilisée avec la permission de M. Djamel S. AKLI (Ath Salem).*"
   ]
  },
  {
   "cell_type": "markdown",
   "id": "b509e254",
   "metadata": {},
   "source": [
    "---\n",
    "\n",
    "#### Généralement, il existe deux façons de faire des prédictions sur les conditions climatiques dans le temps et l'espace : les modèles statistiques et physiques. Mais avant de parler de cela, obtenons de l'expérience pratique avec les ensembles de données climatiques de la NASA."
   ]
  }
 ],
 "metadata": {},
 "nbformat": 4,
 "nbformat_minor": 5
}
