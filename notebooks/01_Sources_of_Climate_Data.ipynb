{
 "cells": [
  {
   "cell_type": "markdown",
   "id": "c4aeb063-3d72-4102-88d0-e1783f043554",
   "metadata": {},
   "source": [
    "# M1.1 - Sources of Climate Data\n",
    "\n",
    "*Part of:* **M1: Open Climate Data**"
   ]
  },
  {
   "cell_type": "markdown",
   "id": "b1a0f38b-b041-4216-a498-9806166f0508",
   "metadata": {},
   "source": [
    "- [Weather versus Climate](#Weather-versus-Climate)\n",
    "- [Issues with climate data collection](#Issues-with-climate-data-collection)\n",
    "- [Sensors and ground stations](#Sensors-and-ground-stations)\n",
    "- [Interpolating station data](#Interpolating-station-data)"
   ]
  },
  {
   "cell_type": "markdown",
   "id": "7fed3c97-0228-477c-a3fb-03fddd6feade",
   "metadata": {},
   "source": [
    "## Weather versus Climate\n",
    "\n",
    "We often hear the words \"weather\" and \"climate\" being used interchangeably. To clarify:\n",
    "\n",
    "- **Weather** refers to the current atmospheric conditions, typically on hourly or daily time scales. For example, the weather \"this afternoon\" might include the hourly rainfall rate or mean temperature. The weather \"yesterday\" might include the total daily rainfall amount, daily maximum temperature, or daily hours of sunshine.\n",
    "- **Climate** refers to the long-term, prevailing pattern in atmospheric conditions. For example, the average annual rainfall amount describes how much rainfall you can *typically expect* to get in a year. Descriptions of climate are always based on a fixed time period, whether it is specified or not. When we talk about the mean monthly temperature, for example, this must be based on a reference time period, such as the average over the years 1950 to 2000.\n",
    "\n",
    "**However, in this curriculum, we'll often use the term *\"climate data\"* to refer to both kinds of data, for simplicity.**\n",
    "\n",
    "\n",
    "## Issues with climate data collection\n",
    "\n",
    "**It’s difficult to get climate data for every part of the world at every time.**\n",
    "\n",
    "- We can't put a weather station at every point on the earth. We don't even know for sure how closely spaced the weather stations need to be—it could be different for different applications or different parts of the world.\n",
    "\n",
    "- Similarly, weather stations have limited coverage. Temperature and humidity, for example, can vary over distances as short as a few meters. So any one weather station may only be representative of a small area.\n",
    "\n",
    "- In some regions of the world, weather radar systems are blocked by hills or mountains, limiting their coverage.\n",
    "\n",
    "Because of the data limitations mentioned above but also computational constraints, the data produced by weather models has limited spatial resolution. Sometimes, the model might describe temperature or wind speed for an area that’s much larger than a farmer's field or even larger than a town or administrative district.\n",
    "\n",
    "\n",
    "## Sensors and ground stations\n",
    "\n",
    "There are many different sources of weather data. In addition to sensors that are installed on ground weather stations, there are multiple airborne and earth-orbiting satellite sensors that provide real-time data on weather conditions. **Consider the different sources of weather (and climate) data in the figure below.**\n",
    "\n",
    "![](./assets/M1_fig_weather_data_sources.jpg)\n",
    "\n",
    "*Image used with permission from the World Meteorological Organization (WMO).*\n",
    "\n",
    "\n",
    "## Interpolating station data\n",
    "\n",
    "It's possible to figure out the weather conditions in a location that is hard to reach, provided there is a base station nearby. There are several physical principles that we can use to interpolate the weather conditions at a site based on one or more nearby locations where weather is monitored. **We know that air temperature declines with altitude at a certain rate, based on the humidity (consider the figure below).** \n",
    "\n",
    "We also know that, in mountainous terrain, some areas are shaded for longer than others. Vegetation cover can impact the sensible temperature both because vegetation shades the ground and because, in cold weather, vegetation itself can be a small source of heat. These and other physical factors can help us infer weather conditions at an unmonitored location using a model. This model might be a simple statistical model or a complex physical model.\n",
    "\n",
    "![](./assets/M1_fig_temperature_lapse.png)\n",
    "\n",
    "*Original photograph used with permission from Mr. Djamel S. AKLI (Ath Salem).*"
   ]
  },
  {
   "cell_type": "markdown",
   "id": "7cd782d0-b8a0-489a-bfea-c7f95c075be5",
   "metadata": {},
   "source": [
    "#### Generally, there are two ways that we can make predictions about climatic conditions across time and space: Statistical and physical models. But before we talk about those, let’s get some hands-on experience with NASA climate datasets."
   ]
  }
 ],
 "metadata": {
  "kernelspec": {
   "display_name": "Python 3 (ipykernel)",
   "language": "python",
   "name": "python3"
  },
  "language_info": {
   "codemirror_mode": {
    "name": "ipython",
    "version": 3
   },
   "file_extension": ".py",
   "mimetype": "text/x-python",
   "name": "python",
   "nbconvert_exporter": "python",
   "pygments_lexer": "ipython3",
   "version": "3.8.10"
  }
 },
 "nbformat": 4,
 "nbformat_minor": 5
}
