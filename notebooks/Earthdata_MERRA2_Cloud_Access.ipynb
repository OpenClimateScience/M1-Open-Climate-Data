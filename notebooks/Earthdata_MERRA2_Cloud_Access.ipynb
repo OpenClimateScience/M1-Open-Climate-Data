{
 "cells": [
  {
   "cell_type": "markdown",
   "id": "97e56497-bb38-4188-ac4f-3467d7edb6a9",
   "metadata": {},
   "source": [
    "# Accessing MERRA-2 Data in the Cloud"
   ]
  },
  {
   "cell_type": "code",
   "execution_count": null,
   "id": "5af7c0c0-b184-4c29-98f1-94033f52e678",
   "metadata": {},
   "outputs": [],
   "source": [
    "import earthaccess\n",
    "import xarray as xr\n",
    "from matplotlib import pyplot\n",
    "\n",
    "auth = earthaccess.login()"
   ]
  },
  {
   "cell_type": "markdown",
   "id": "91606a2f-50bc-4817-8399-7d3cbe5501aa",
   "metadata": {},
   "source": [
    "## Using `earthaccess`"
   ]
  },
  {
   "cell_type": "code",
   "execution_count": null,
   "id": "a9c1227d-a06b-4fab-8b12-966915e67dcb",
   "metadata": {},
   "outputs": [],
   "source": [
    "results = earthaccess.search_data(\n",
    "    short_name = 'M2SDNXSLV',\n",
    "    temporal = (\"2023-06\", \"2023-07\"))\n",
    "results[0]"
   ]
  },
  {
   "cell_type": "code",
   "execution_count": null,
   "id": "3f97ff3f-35c0-4555-945b-0060c1c54be9",
   "metadata": {},
   "outputs": [],
   "source": [
    "# NOTE: open() requires a sequence of file references\n",
    "files = earthaccess.open(results[0:2])"
   ]
  },
  {
   "cell_type": "code",
   "execution_count": null,
   "id": "4cfd81df-dc44-443d-9bd0-a8413c44bd96",
   "metadata": {},
   "outputs": [],
   "source": [
    "ds2 = xr.open_dataset(files[0])\n",
    "ds2"
   ]
  },
  {
   "cell_type": "code",
   "execution_count": null,
   "id": "fbb2c0ba-9ae5-497c-a421-3e14404185e3",
   "metadata": {},
   "outputs": [],
   "source": [
    "ds2['T2MMIN'].plot()"
   ]
  },
  {
   "cell_type": "markdown",
   "id": "20ced234-29b5-4a9a-a960-4d03ad292a01",
   "metadata": {},
   "source": [
    "## Getting a Temperature Time Series"
   ]
  },
  {
   "cell_type": "markdown",
   "id": "6efe6da6-360f-4f94-bfd0-8123cdbef47c",
   "metadata": {},
   "source": [
    "This example may take half a minute with a good internet connection."
   ]
  },
  {
   "cell_type": "code",
   "execution_count": null,
   "id": "8cce6c4e-9737-4e8e-b5d5-7f1d942b211f",
   "metadata": {},
   "outputs": [],
   "source": [
    "results = earthaccess.search_data(\n",
    "    short_name = 'M2SDNXSLV',\n",
    "    temporal = (\"2023-06\", \"2023-07\"))\n",
    "\n",
    "time_list = []\n",
    "data_list = []\n",
    "file_list = earthaccess.open(results)\n",
    "for filename in file_list:\n",
    "    ds = xr.open_dataset(filename)\n",
    "    data_list.append(ds['T2MMIN'].sel(lat = 36.5, lon = 3.125).values)\n",
    "    time_list.append(ds['T2MMIN']['time'].values)"
   ]
  },
  {
   "cell_type": "code",
   "execution_count": null,
   "id": "0397b7f4-df17-4ee6-82ab-59789a66b7ea",
   "metadata": {},
   "outputs": [],
   "source": [
    "import numpy as np\n",
    "\n",
    "# Convert from deg K to deg C\n",
    "data = np.array(data_list).ravel() - 273.15\n",
    "time = np.array(time_list).ravel()\n",
    "\n",
    "pyplot.figure(figsize = (12, 4))\n",
    "pyplot.plot(time, data)\n",
    "pyplot.ylabel('Min. Temperature (deg C)')"
   ]
  }
 ],
 "metadata": {
  "kernelspec": {
   "display_name": "Python 3 (ipykernel)",
   "language": "python",
   "name": "python3"
  },
  "language_info": {
   "codemirror_mode": {
    "name": "ipython",
    "version": 3
   },
   "file_extension": ".py",
   "mimetype": "text/x-python",
   "name": "python",
   "nbconvert_exporter": "python",
   "pygments_lexer": "ipython3",
   "version": "3.8.10"
  }
 },
 "nbformat": 4,
 "nbformat_minor": 5
}
