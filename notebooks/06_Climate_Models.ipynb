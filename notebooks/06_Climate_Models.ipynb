{
 "cells": [
  {
   "cell_type": "markdown",
   "id": "b53e1984-5432-47cf-be67-26b286752b23",
   "metadata": {},
   "source": [
    "# M1.6 - Climate Models\n",
    "\n",
    "*Part of:* **M1: Open Climate Data**"
   ]
  },
  {
   "cell_type": "markdown",
   "id": "61d6ada8-f0e2-4c5f-bb59-71aa763e9d55",
   "metadata": {},
   "source": [
    "## General Circulation Models\n",
    "\n",
    "General circulation models (GCMs) are complex, mathematical representations of the exchange of radiation, heat, and atmospheric trace gases. As you can see from the schematic below, a GCM models the ocean, atmosphere, and land surface as a collection of discrete grid cells. Each grid cell can exchange energy or mass with adjacent grid cells. Smaller grid cells would provide a better approximation of the real Earth, but would increase the computational complexity. In a GCM, the full 3-dimensional atmosphere is modeled forward in time to simulate past, present, and future climate changes. They can predict weather events over hours, days, and even further into the future, although some events can only be reliably predicted over shorter time scales.\n",
    "\n",
    "![](./assets/GCM.png)\n",
    "\n",
    "*Image credit: David Bice, Penn State University (Licensed under [CC-BY-NC-SA 4.0](https://creativecommons.org/licenses/by-nc-sa/4.0/))*\n",
    "\n",
    "GCM's are the primary tool for modeling climate change. Comparisons of GCM predictions to historical climate, in particular temperature trends and anomalies, indicate that GCMs can predict Earth's climate system fairly accurately. But GCM predictions are spatially coarse, with grid cells typically on the order of 100 square kilometers."
   ]
  },
  {
   "cell_type": "markdown",
   "id": "de3613e1-3bd4-4a42-b025-8d877977aa3f",
   "metadata": {
    "jp-MarkdownHeadingCollapsed": true
   },
   "source": [
    "## Earth System Models (ESMs)\n",
    "\n",
    "GCMs represent water, heat, and gas exchange between the land surface, oceans, and atmosphere, but they don't have any representation of human societies and how they alter these processes. An **Earth System Model (ESM),** in contrast, is capable of representing everything in a GCM but also processes like deforestation, agriculture, and the storage or release of carbon from forests and soils. The figure below (from Bonan & Doney, 2018, *Science*) shows some of the major differences between GCMs and ESMs.\n",
    "\n",
    "![](./assets/M1_fig_Bonan_Doney_2018.jpg)\n",
    "\n",
    "*Image from Bonan & Doney (2018, Science)*\n",
    "\n",
    "Because they include human-caused changes to ecosystems, ESMs are capable of being used for scenario-modeling of potential future changes."
   ]
  }
 ],
 "metadata": {
  "kernelspec": {
   "display_name": "Python 3 (ipykernel)",
   "language": "python",
   "name": "python3"
  },
  "language_info": {
   "codemirror_mode": {
    "name": "ipython",
    "version": 3
   },
   "file_extension": ".py",
   "mimetype": "text/x-python",
   "name": "python",
   "nbconvert_exporter": "python",
   "pygments_lexer": "ipython3",
   "version": "3.10.12"
  }
 },
 "nbformat": 4,
 "nbformat_minor": 5
}
